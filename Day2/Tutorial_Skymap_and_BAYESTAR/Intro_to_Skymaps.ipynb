{
 "cells": [
  {
   "attachments": {},
   "cell_type": "markdown",
   "metadata": {
    "Collapsed": "false",
    "colab_type": "text",
    "id": "G8ofAlG4r05m"
   },
   "source": [
    "# Introduction to LIGO Skymaps\n",
    "In this first tutorial we will learn the basics of LIGO sky localiztion probability maps (skymaps).\n",
    "\n",
    "We will cover a) downloading and reading in the Flexible Image Transport System (FITS) files, b) getting header information for skymaps, c) getting probabilities given line of sight (right ascension/declination), d) finding the maximum probability density pixel, e) creating skymap plots with galactic coordinates, f) selecting the 50% and 90% probability regions, and g) down-sampling the map to coarser resolutions."
   ]
  },
  {
   "attachments": {},
   "cell_type": "markdown",
   "metadata": {
    "Collapsed": "false",
    "colab_type": "text",
    "id": "gTRlzFRZr05z"
   },
   "source": [
    "## Setting up the Python Environment\n",
    "The following packages are needed for working with LIGO skymaps: Astropy, Healpy, and Numpy. We will also utilize Matplotlib, Scipy, and Astroquery. All of these packages can be installed using Pip."
   ]
  },
  {
   "cell_type": "code",
   "execution_count": 1,
   "metadata": {
    "Collapsed": "false",
    "colab": {
     "base_uri": "https://localhost:8080/",
     "height": 817
    },
    "colab_type": "code",
    "id": "Cj5lo98gr057",
    "outputId": "5db37d17-fbce-488f-cfb3-814afd1c4863"
   },
   "outputs": [],
   "source": [
    "# -- For Google Colab\n",
    "#! pip install -q astropy astroquery healpy matplotlib scipy"
   ]
  },
  {
   "attachments": {},
   "cell_type": "markdown",
   "metadata": {
    "Collapsed": "false",
    "colab_type": "text",
    "id": "qBrr7a19r06S"
   },
   "source": [
    "All LIGO skymaps are stored as FITS files. The FITS files contain a single binary table that represent a HEALPix (Hierarchical Equal Area isoLatitude Pixelization) all-sky image.\n",
    "For compact binary mergers, 3-D skymaps (distance + directional information) are provided. These tables have four columns: PROB, DISTMU, DISTSTD, and DISTNORM.\n",
    "For unmodelled triggers, 2-D skymaps are generated with only directional information. These tables only have one column.\n",
    "\n",
    "More on this later.... Now that we have installed the packages successfully, let us try importing the necessary packages for working with the HEALPix files."
   ]
  },
  {
   "attachments": {},
   "cell_type": "markdown",
   "metadata": {
    "Collapsed": "false",
    "colab_type": "text",
    "id": "kEgiz0FJr06d"
   },
   "source": [
    "## Import necessary packages "
   ]
  },
  {
   "cell_type": "code",
   "execution_count": 2,
   "metadata": {
    "Collapsed": "false",
    "colab": {},
    "colab_type": "code",
    "id": "lhrgDhanr06h"
   },
   "outputs": [],
   "source": [
    "import healpy as hp # for working with HEALPix files\n",
    "import numpy as np # needed for vector operations\n",
    "from matplotlib import pyplot as plt # plotting skymaps\n",
    "from scipy.stats import norm # probability functions"
   ]
  },
  {
   "attachments": {},
   "cell_type": "markdown",
   "metadata": {
    "Collapsed": "false",
    "colab_type": "text",
    "id": "Wkn49P_Gr06p"
   },
   "source": [
    "We will download a skymap from the BNS merger event, GW170817.\n",
    "Specifically, we will use the publication LALInference skymap.\n",
    "All skymaps relevant for this event released from the LIGO-Virgo side can be found here: https://dcc.ligo.org/LIGO-G1701985/public"
   ]
  },
  {
   "cell_type": "code",
   "execution_count": 4,
   "metadata": {
    "Collapsed": "false",
    "colab": {},
    "colab_type": "code",
    "id": "fSZpf86ur06q"
   },
   "outputs": [],
   "source": [
    "from astropy.utils.data import download_file\n",
    "url = ('https://dcc.ligo.org/public/0146/G1701985/001/LALInference_v2.fits.gz')\n",
    "# This is the publication LALInference localization\n",
    "filename = download_file(url, cache=True)"
   ]
  },
  {
   "attachments": {},
   "cell_type": "markdown",
   "metadata": {
    "Collapsed": "false",
    "colab_type": "text",
    "id": "10O1RvyTr06u"
   },
   "source": [
    "Now, when we read in the HEALPix file with Healpy, we get a skymap and a header. The skymap contains the first column which is the probability sky map. This is the probability that the source is contained in pixel $i$, centered on the direction $\\vec{n}_i$. The units are pixel$^{-1}$. For 3D skymaps, 3 additional columns remain which are DISTMU, DISTSTD, and DISTNORM."
   ]
  },
  {
   "attachments": {},
   "cell_type": "markdown",
   "metadata": {
    "Collapsed": "false",
    "colab_type": "text",
    "id": "N39Sv-fnr06u"
   },
   "source": [
    "## Reading in the skymap and header with Healpy"
   ]
  },
  {
   "cell_type": "code",
   "execution_count": 5,
   "metadata": {
    "Collapsed": "false",
    "colab": {
     "base_uri": "https://localhost:8080/",
     "height": 141
    },
    "colab_type": "code",
    "id": "945cIS2cr06v",
    "outputId": "2325604d-9133-4861-b466-3f860a419dac"
   },
   "outputs": [],
   "source": [
    "prob, header = hp.read_map(filename, h=True) # reading in the first column which is the probability skymap and the header"
   ]
  },
  {
   "attachments": {},
   "cell_type": "markdown",
   "metadata": {
    "Collapsed": "false",
    "colab_type": "text",
    "id": "I8b726jPr06y"
   },
   "source": [
    "Now, because we are working with a 3D skymap, we will read in distance information as well: distmu and distsigma (the ansatz location and scale parameters of condition distance distribution in direction $\\vec{n}_i$), and distnorm (the ansatz normalization coefficient)."
   ]
  },
  {
   "cell_type": "code",
   "execution_count": 6,
   "metadata": {
    "Collapsed": "false",
    "colab": {
     "base_uri": "https://localhost:8080/",
     "height": 176
    },
    "colab_type": "code",
    "id": "FhtJo3-Ur06z",
    "outputId": "0175bd73-3054-4433-c43f-73673aaa788e"
   },
   "outputs": [],
   "source": [
    "distmu, distsigma, distnorm = hp.read_map(filename, field=[1,2,3])"
   ]
  },
  {
   "attachments": {},
   "cell_type": "markdown",
   "metadata": {
    "Collapsed": "false",
    "colab_type": "text",
    "id": "yglqU8Pjr062"
   },
   "source": [
    "Because we read in the header (which contains relevant metadata about the event and the skymap), we will print it explicitly. Often, the circulars written by the LIGO and Virgo Collaborations contain information from the skymap headers."
   ]
  },
  {
   "cell_type": "code",
   "execution_count": 7,
   "metadata": {
    "Collapsed": "false",
    "colab": {
     "base_uri": "https://localhost:8080/",
     "height": 745
    },
    "colab_type": "code",
    "id": "3jwVWyRXr063",
    "outputId": "43561f40-03e7-4377-de0e-4a9d562585cf"
   },
   "outputs": [
    {
     "data": {
      "text/plain": [
       "[('XTENSION', 'BINTABLE'),\n",
       " ('BITPIX', 8),\n",
       " ('NAXIS', 2),\n",
       " ('NAXIS1', 32),\n",
       " ('NAXIS2', 50331648),\n",
       " ('PCOUNT', 0),\n",
       " ('GCOUNT', 1),\n",
       " ('TFIELDS', 4),\n",
       " ('TTYPE1', 'PROB'),\n",
       " ('TFORM1', 'D'),\n",
       " ('TUNIT1', 'pix-1'),\n",
       " ('TTYPE2', 'DISTMU'),\n",
       " ('TFORM2', 'D'),\n",
       " ('TUNIT2', 'Mpc'),\n",
       " ('TTYPE3', 'DISTSIGMA'),\n",
       " ('TFORM3', 'D'),\n",
       " ('TUNIT3', 'Mpc'),\n",
       " ('TTYPE4', 'DISTNORM'),\n",
       " ('TFORM4', 'D'),\n",
       " ('TUNIT4', 'Mpc-2'),\n",
       " ('PIXTYPE', 'HEALPIX'),\n",
       " ('ORDERING', 'NESTED'),\n",
       " ('COORDSYS', 'C'),\n",
       " ('NSIDE', 2048),\n",
       " ('INDXSCHM', 'IMPLICIT'),\n",
       " ('OBJECT', 'G298107'),\n",
       " ('REFERENC', 'https://gracedb.ligo.org/events/G298107'),\n",
       " ('INSTRUME', 'H1,L1,V1'),\n",
       " ('DATE-OBS', '2017-08-17T12:41:04.444458'),\n",
       " ('MJD-OBS', 57982.52852366262),\n",
       " ('DATE', '2017-08-17T16:11:42.000000'),\n",
       " ('CREATOR', 'BAYESTAR'),\n",
       " ('ORIGIN', 'LIGO/Virgo'),\n",
       " ('RUNTIME', 15.0),\n",
       " ('DISTMEAN', 39.76999609489005),\n",
       " ('DISTSTD', 8.308435058808682),\n",
       " ('LOGBCI', 13.64819688928804),\n",
       " ('LOGBSN', 261.0250944470225),\n",
       " ('VCSVERS', 'LALInference 1.9.4.1'),\n",
       " ('VCSSTAT', 'CLEAN: All modifications committed'),\n",
       " ('VCSREV', 'b002970a29277aab145627f8b5eea76f3a8c5829'),\n",
       " ('DATE-BLD', '2017-08-03T19:22:48-0700'),\n",
       " ('HISTORY', ''),\n",
       " ('HISTORY', 'Generated by calling the following Python function:'),\n",
       " ('HISTORY',\n",
       "  'lalinference.bayestar.sky_map.localize(event=<LigoLWEvent(singles=(<Ligo'),\n",
       " ('HISTORY',\n",
       "  \"LWSingleEvent(detector=u'H1', snr=15.745832, phase=0.59536642, time=1187\"),\n",
       " ('HISTORY',\n",
       "  \"008882.4467773)>, <LigoLWSingleEvent(detector=u'L1', snr=24.330324, phas\"),\n",
       " ('HISTORY',\n",
       "  \"e=-3.0009944, time=1187008882.4433594)>, <LigoLWSingleEvent(detector=u'V\"),\n",
       " ('HISTORY',\n",
       "  \"1', snr=None, phase=None, time=1187008882.4450684)>))>, waveform='o2-ube\"),\n",
       " ('HISTORY',\n",
       "  \"rbank', f_low=30, min_distance=None, max_distance=None, prior_distance_p\"),\n",
       " ('HISTORY',\n",
       "  \"ower=2, cosmology=False, method='toa_phoa_snr', nside=-1, chain_dump=Non\"),\n",
       " ('HISTORY', 'e, enable_snr_series=True, f_high_truncate=0.95)'),\n",
       " ('HISTORY', ''),\n",
       " ('HISTORY', 'This was the command line that started the program:'),\n",
       " ('HISTORY', 'bayestar_localize_lvalert')]"
      ]
     },
     "execution_count": 7,
     "metadata": {},
     "output_type": "execute_result"
    }
   ],
   "source": [
    "header"
   ]
  },
  {
   "attachments": {},
   "cell_type": "markdown",
   "metadata": {
    "Collapsed": "false",
    "colab_type": "text",
    "id": "gDODRW1Hr066"
   },
   "source": [
    "Above in the header, DISTMEAN is the posterior mean distance in Mpc and DISTSTD is the posterior standard deviation of the distance in Mpc."
   ]
  },
  {
   "attachments": {},
   "cell_type": "markdown",
   "metadata": {
    "Collapsed": "false",
    "colab_type": "text",
    "id": "5alO7Zjsr067"
   },
   "source": [
    "Next, it will be useful for us to have the HEALPix resolution on hand."
   ]
  },
  {
   "cell_type": "code",
   "execution_count": 8,
   "metadata": {
    "Collapsed": "false",
    "colab": {
     "base_uri": "https://localhost:8080/",
     "height": 35
    },
    "colab_type": "code",
    "id": "2qL3n4u-r067",
    "outputId": "4186cb84-4b2b-493a-a30b-47c9fd0365ee"
   },
   "outputs": [
    {
     "data": {
      "text/plain": [
       "(50331648, 2048)"
      ]
     },
     "execution_count": 8,
     "metadata": {},
     "output_type": "execute_result"
    }
   ],
   "source": [
    "npix = len(prob)\n",
    "nside = hp.npix2nside(npix)\n",
    "npix, nside"
   ]
  },
  {
   "attachments": {},
   "cell_type": "markdown",
   "metadata": {
    "Collapsed": "false",
    "colab_type": "text",
    "id": "D9jN1jFrr06-"
   },
   "source": [
    "Another way to get the same information is to use the Healpy functions get_map_size and get_nside."
   ]
  },
  {
   "cell_type": "code",
   "execution_count": 9,
   "metadata": {
    "Collapsed": "false",
    "colab": {
     "base_uri": "https://localhost:8080/",
     "height": 35
    },
    "colab_type": "code",
    "id": "IKd9uY92r07A",
    "outputId": "2505ed0e-9f71-444c-e994-151707a7cf86"
   },
   "outputs": [
    {
     "data": {
      "text/plain": [
       "50331648"
      ]
     },
     "execution_count": 9,
     "metadata": {},
     "output_type": "execute_result"
    }
   ],
   "source": [
    "hp.get_map_size(prob)"
   ]
  },
  {
   "cell_type": "code",
   "execution_count": 10,
   "metadata": {
    "Collapsed": "false",
    "colab": {
     "base_uri": "https://localhost:8080/",
     "height": 35
    },
    "colab_type": "code",
    "id": "XTZijccur07E",
    "outputId": "e148d5a4-fa36-4360-cf37-92d1367cf6e5"
   },
   "outputs": [
    {
     "data": {
      "text/plain": [
       "2048"
      ]
     },
     "execution_count": 10,
     "metadata": {},
     "output_type": "execute_result"
    }
   ],
   "source": [
    "hp.get_nside(prob)"
   ]
  },
  {
   "attachments": {},
   "cell_type": "markdown",
   "metadata": {
    "Collapsed": "false",
    "colab_type": "text",
    "id": "hNkOlnHwr07H"
   },
   "source": [
    "The relationship between $npix$ and $nside$ is $npix = 12 * nside^2$."
   ]
  },
  {
   "attachments": {},
   "cell_type": "markdown",
   "metadata": {
    "Collapsed": "false",
    "colab_type": "text",
    "id": "6R8vsm-6r07I"
   },
   "source": [
    "## Finding the maximum probability density pixel\n",
    "\n",
    "Sometimes it is useful to find the maximum probability density pixel."
   ]
  },
  {
   "cell_type": "code",
   "execution_count": 11,
   "metadata": {
    "Collapsed": "false",
    "colab": {
     "base_uri": "https://localhost:8080/",
     "height": 35
    },
    "colab_type": "code",
    "id": "rqsE2t3br07J",
    "outputId": "487f8f77-bc8e-48c0-85d9-7cdc1c282ec0"
   },
   "outputs": [
    {
     "data": {
      "text/plain": [
       "32883013"
      ]
     },
     "execution_count": 11,
     "metadata": {},
     "output_type": "execute_result"
    }
   ],
   "source": [
    "maxpix = np.argmax(prob)\n",
    "maxpix"
   ]
  },
  {
   "attachments": {},
   "cell_type": "markdown",
   "metadata": {
    "Collapsed": "false",
    "colab_type": "text",
    "id": "uhjWH2Jlr07M"
   },
   "source": [
    "We want to compute the probability per deg$^2$ contained in this pixel.\n",
    "To find this, we first need Healpy to tell us the area per pixel in steradians at the current HEALPix resolution."
   ]
  },
  {
   "cell_type": "code",
   "execution_count": 12,
   "metadata": {
    "Collapsed": "false",
    "colab": {
     "base_uri": "https://localhost:8080/",
     "height": 35
    },
    "colab_type": "code",
    "id": "dPNl8Zyqr07N",
    "outputId": "bf056790-5c7d-4628-b413-ac429b117c10"
   },
   "outputs": [
    {
     "data": {
      "text/plain": [
       "2.4967135219492856e-07"
      ]
     },
     "execution_count": 12,
     "metadata": {},
     "output_type": "execute_result"
    }
   ],
   "source": [
    "pixarea = hp.nside2pixarea(nside)\n",
    "pixarea"
   ]
  },
  {
   "attachments": {},
   "cell_type": "markdown",
   "metadata": {
    "Collapsed": "false",
    "colab_type": "text",
    "id": "81zWY8_8r07P"
   },
   "source": [
    "Note, the $pixarea$ is the same as the solid angle of the sphere divided by the number of pixels, $4 \\pi/npix$."
   ]
  },
  {
   "cell_type": "code",
   "execution_count": 13,
   "metadata": {
    "Collapsed": "false",
    "colab": {
     "base_uri": "https://localhost:8080/",
     "height": 35
    },
    "colab_type": "code",
    "id": "693ex_r9r07Q",
    "outputId": "5ac7ed98-b7e8-4da8-a2c3-eac8b7a06afb"
   },
   "outputs": [
    {
     "data": {
      "text/plain": [
       "True"
      ]
     },
     "execution_count": 13,
     "metadata": {},
     "output_type": "execute_result"
    }
   ],
   "source": [
    "pixarea == 4*np.pi/npix"
   ]
  },
  {
   "attachments": {},
   "cell_type": "markdown",
   "metadata": {
    "Collapsed": "false",
    "colab_type": "text",
    "id": "3GDeJLXlr07T"
   },
   "source": [
    "We can also get the $pixarea$ in deg$^2$."
   ]
  },
  {
   "cell_type": "code",
   "execution_count": 14,
   "metadata": {
    "Collapsed": "false",
    "colab": {
     "base_uri": "https://localhost:8080/",
     "height": 35
    },
    "colab_type": "code",
    "id": "OZ3l-POHr07U",
    "outputId": "5b55ec05-3a96-4b7f-de3c-8b46b1970262"
   },
   "outputs": [
    {
     "data": {
      "text/plain": [
       "0.0008196227004015301"
      ]
     },
     "execution_count": 14,
     "metadata": {},
     "output_type": "execute_result"
    }
   ],
   "source": [
    "pixarea_deg2 = hp.nside2pixarea(nside, degrees=True)\n",
    "pixarea_deg2"
   ]
  },
  {
   "attachments": {},
   "cell_type": "markdown",
   "metadata": {
    "Collapsed": "false",
    "colab_type": "text",
    "id": "_daZTlLUr07X"
   },
   "source": [
    "We can also compute this by using the conversion from steradians to deg$^2$: $1$sr $= (180/\\pi)^2$ deg$^2$."
   ]
  },
  {
   "cell_type": "code",
   "execution_count": 15,
   "metadata": {
    "Collapsed": "false",
    "colab": {
     "base_uri": "https://localhost:8080/",
     "height": 35
    },
    "colab_type": "code",
    "id": "75iuTVIUr07Z",
    "outputId": "54b9f909-8ff4-4c67-9587-575567821b0d"
   },
   "outputs": [
    {
     "data": {
      "text/plain": [
       "True"
      ]
     },
     "execution_count": 15,
     "metadata": {},
     "output_type": "execute_result"
    }
   ],
   "source": [
    "pixarea_deg2 == pixarea*(180/np.pi)**2"
   ]
  },
  {
   "attachments": {},
   "cell_type": "markdown",
   "metadata": {
    "Collapsed": "false",
    "colab_type": "text",
    "id": "PtV_23oTr07d"
   },
   "source": [
    "Thus, if we want to compute the probability per steradian or probability per deg$^2$, we just divide the probability contained in maxpix by the area per pixel."
   ]
  },
  {
   "cell_type": "code",
   "execution_count": 16,
   "metadata": {
    "Collapsed": "false",
    "colab": {
     "base_uri": "https://localhost:8080/",
     "height": 35
    },
    "colab_type": "code",
    "id": "8lEZ9xKMr07e",
    "outputId": "c826eb24-9d4e-44d8-9fd9-a2b98b6ec87b"
   },
   "outputs": [
    {
     "data": {
      "text/plain": [
       "256.88500373329117"
      ]
     },
     "execution_count": 16,
     "metadata": {},
     "output_type": "execute_result"
    }
   ],
   "source": [
    "dp_dA = prob[maxpix]/pixarea\n",
    "dp_dA # Probability per steradian"
   ]
  },
  {
   "cell_type": "code",
   "execution_count": 17,
   "metadata": {
    "Collapsed": "false",
    "colab": {
     "base_uri": "https://localhost:8080/",
     "height": 35
    },
    "colab_type": "code",
    "id": "e2NWe-MRr07r",
    "outputId": "ff286a09-ce76-4d8f-8b96-9fb031aa3b13"
   },
   "outputs": [
    {
     "data": {
      "text/plain": [
       "0.07825164701913416"
      ]
     },
     "execution_count": 17,
     "metadata": {},
     "output_type": "execute_result"
    }
   ],
   "source": [
    "dp_dA_deg2 = prob[maxpix]/pixarea_deg2\n",
    "dp_dA_deg2 # Probability per deg^2"
   ]
  },
  {
   "attachments": {},
   "cell_type": "markdown",
   "metadata": {
    "Collapsed": "false",
    "colab_type": "text",
    "id": "YovZUXKxr07w"
   },
   "source": [
    "## 2D Probability in a Given Line of Sight\n",
    "\n",
    "We want to be able to compute the probability per deg$^2$ that the source is in a given direction.\n",
    "Let us take the following equatorial coordinates."
   ]
  },
  {
   "cell_type": "code",
   "execution_count": 18,
   "metadata": {
    "Collapsed": "false",
    "colab": {},
    "colab_type": "code",
    "id": "Ua7u0bg0r07x"
   },
   "outputs": [],
   "source": [
    "ra, dec = 197.45, -23.38 # Coordinates of NGC 4993"
   ]
  },
  {
   "attachments": {},
   "cell_type": "markdown",
   "metadata": {
    "Collapsed": "false",
    "colab_type": "text",
    "id": "ZKIIvv9jr07z"
   },
   "source": [
    "Healpy uses spherical coordinates $(\\theta, \\phi)$ with $\\theta \\in [0, \\pi]$ being the colatitude from the north celestial pole in radians, and $\\phi \\in [0, 2\\pi)$ being the right ascension in radians."
   ]
  },
  {
   "cell_type": "code",
   "execution_count": 19,
   "metadata": {
    "Collapsed": "false",
    "colab": {
     "base_uri": "https://localhost:8080/",
     "height": 35
    },
    "colab_type": "code",
    "id": "qbI4Hq3Br070",
    "outputId": "2c0acb0d-b086-423a-de2b-c1abdf82a979"
   },
   "outputs": [
    {
     "data": {
      "text/plain": [
       "(1.9788543059111707, 3.4461526080628033)"
      ]
     },
     "execution_count": 19,
     "metadata": {},
     "output_type": "execute_result"
    }
   ],
   "source": [
    "# Converting to radians\n",
    "theta = 0.5*np.pi - np.deg2rad(dec)\n",
    "phi = np.deg2rad(ra)\n",
    "theta, phi"
   ]
  },
  {
   "attachments": {},
   "cell_type": "markdown",
   "metadata": {
    "Collapsed": "false",
    "colab_type": "text",
    "id": "xZFlcn2sr072"
   },
   "source": [
    "Now, we look up the index of the HEALPix pixel that contains this direction."
   ]
  },
  {
   "cell_type": "code",
   "execution_count": 20,
   "metadata": {
    "Collapsed": "false",
    "colab": {
     "base_uri": "https://localhost:8080/",
     "height": 35
    },
    "colab_type": "code",
    "id": "jUgKoOxJr073",
    "outputId": "0fd60630-f373-4274-9553-a2591570208a"
   },
   "outputs": [
    {
     "data": {
      "text/plain": [
       "35152269"
      ]
     },
     "execution_count": 20,
     "metadata": {},
     "output_type": "execute_result"
    }
   ],
   "source": [
    "ipix = hp.ang2pix(nside, theta, phi)\n",
    "ipix"
   ]
  },
  {
   "attachments": {},
   "cell_type": "markdown",
   "metadata": {
    "Collapsed": "false",
    "colab_type": "text",
    "id": "ppFsbVyor076"
   },
   "source": [
    "Now, we want to compute the probability contained within this ipix pixel. (This is a repeat of what was done above.)"
   ]
  },
  {
   "cell_type": "code",
   "execution_count": 21,
   "metadata": {
    "Collapsed": "false",
    "colab": {
     "base_uri": "https://localhost:8080/",
     "height": 35
    },
    "colab_type": "code",
    "id": "AFSXgWcXr076",
    "outputId": "da11553d-165e-4c9f-a755-0fde220a922b"
   },
   "outputs": [
    {
     "data": {
      "text/plain": [
       "113.84506839221187"
      ]
     },
     "execution_count": 21,
     "metadata": {},
     "output_type": "execute_result"
    }
   ],
   "source": [
    "dp_dA = prob[ipix]/pixarea # Probability per steradian\n",
    "dp_dA"
   ]
  },
  {
   "cell_type": "code",
   "execution_count": 22,
   "metadata": {
    "Collapsed": "false",
    "colab": {
     "base_uri": "https://localhost:8080/",
     "height": 35
    },
    "colab_type": "code",
    "id": "OWui8-jqr079",
    "outputId": "6fd1f32f-42cb-4f9b-f037-1da6c118bcd4"
   },
   "outputs": [
    {
     "data": {
      "text/plain": [
       "0.03467919098907695"
      ]
     },
     "execution_count": 22,
     "metadata": {},
     "output_type": "execute_result"
    }
   ],
   "source": [
    "dp_dA_deg2 = prob[ipix]/pixarea_deg2 # Probability per deg^2\n",
    "dp_dA_deg2"
   ]
  },
  {
   "attachments": {},
   "cell_type": "markdown",
   "metadata": {
    "Collapsed": "false",
    "colab_type": "text",
    "id": "euiTT3-Tr07_"
   },
   "source": [
    "## Conditional Distance Distribution along a Line of Sight\n",
    "\n",
    "Next, let us calculate the conditional distance distribution along a given line of sight. In other words, this is the probability per unit distance under the assumption that the source is in a given direction."
   ]
  },
  {
   "attachments": {},
   "cell_type": "markdown",
   "metadata": {
    "Collapsed": "false",
    "colab_type": "text",
    "id": "Eb0AklVir07_"
   },
   "source": [
    "We first lay out a grid in distance along that line of sight."
   ]
  },
  {
   "cell_type": "code",
   "execution_count": 23,
   "metadata": {
    "Collapsed": "false",
    "colab": {},
    "colab_type": "code",
    "id": "HOH2Pw9er08A"
   },
   "outputs": [],
   "source": [
    "r = np.linspace(0,80,100) # Returns 100 evenly spaced numbers between 0 and 80"
   ]
  },
  {
   "attachments": {},
   "cell_type": "markdown",
   "metadata": {
    "Collapsed": "false",
    "colab_type": "text",
    "id": "5d4HKQK4r08D"
   },
   "source": [
    "Now, we plug everyting into the ansatz distribution. The probability that a source is within pixel $i$ and at a distance between $r$ and $r + dr$ is:\n",
    "\\begin{equation*}\n",
    "P(r, \\vec{n}_i) dr = \\rho_i \\frac{\\hat{N}_i}{\\sqrt{2\\pi}\\hat{\\sigma}_i} \\text{exp} \\left[-\\frac{(r-\\hat{\\mu}_i)^2}{2\\hat{\\sigma}_i^2} \\right] r^2 dr\n",
    "\\end{equation*}\n"
   ]
  },
  {
   "cell_type": "code",
   "execution_count": 24,
   "metadata": {
    "Collapsed": "false",
    "colab": {},
    "colab_type": "code",
    "id": "RFIgcSgwr08E"
   },
   "outputs": [],
   "source": [
    "dp_dr = r**2 * distnorm[ipix] * norm(distmu[ipix], distsigma[ipix]).pdf(r)"
   ]
  },
  {
   "attachments": {},
   "cell_type": "markdown",
   "metadata": {
    "Collapsed": "false",
    "colab_type": "text",
    "id": "RTc4FP4Ar08K"
   },
   "source": [
    "Now, we can plot the result."
   ]
  },
  {
   "cell_type": "code",
   "execution_count": 25,
   "metadata": {
    "Collapsed": "false",
    "colab": {
     "base_uri": "https://localhost:8080/",
     "height": 279
    },
    "colab_type": "code",
    "id": "oES57Hssr08L",
    "outputId": "5c4f88b9-f375-4476-acf6-34e83d9833f1"
   },
   "outputs": [
    {
     "data": {
      "image/png": "[encoded data removed]",
      "text/plain": [
       "<Figure size 640x480 with 1 Axes>"
      ]
     },
     "metadata": {},
     "output_type": "display_data"
    }
   ],
   "source": [
    "plt.plot(r, dp_dr)\n",
    "plt.xlabel('distance (Mpc)')\n",
    "plt.ylabel('prob Mpc$^{-1}$')\n",
    "plt.show()"
   ]
  },
  {
   "attachments": {},
   "cell_type": "markdown",
   "metadata": {
    "Collapsed": "false",
    "colab_type": "text",
    "id": "NTxs5WUcr08O"
   },
   "source": [
    "## Probability per Unit Volume at a Point "
   ]
  },
  {
   "attachments": {},
   "cell_type": "markdown",
   "metadata": {
    "Collapsed": "false",
    "colab_type": "text",
    "id": "rQGK_CCDr08O"
   },
   "source": [
    "Now, we can calculate the probability density per Mpc$^3$ at a point. We can use the same right ascension and declination as above and the distance to NGC 4993, which is 40 Mpc."
   ]
  },
  {
   "cell_type": "code",
   "execution_count": 26,
   "metadata": {
    "Collapsed": "false",
    "colab": {},
    "colab_type": "code",
    "id": "xwcmPILmr08P"
   },
   "outputs": [],
   "source": [
    "r = 40"
   ]
  },
  {
   "cell_type": "code",
   "execution_count": 27,
   "metadata": {
    "Collapsed": "false",
    "colab": {
     "base_uri": "https://localhost:8080/",
     "height": 35
    },
    "colab_type": "code",
    "id": "fJDr0WRyr08R",
    "outputId": "0e313fb9-004f-43a2-e5da-83c07a854885"
   },
   "outputs": [
    {
     "data": {
      "text/plain": [
       "0.0035090602969264544"
      ]
     },
     "execution_count": 27,
     "metadata": {},
     "output_type": "execute_result"
    }
   ],
   "source": [
    "dp_dV = prob[ipix]*distnorm[ipix]*norm(distmu[ipix], distsigma[ipix]).pdf(r)/pixarea\n",
    "dp_dV"
   ]
  },
  {
   "attachments": {},
   "cell_type": "markdown",
   "metadata": {
    "Collapsed": "false",
    "colab_type": "text",
    "id": "urHgfnKor08V"
   },
   "source": [
    "## Creating skymap plots with equatorial coordinates\n",
    "\n",
    "Now we wish to create the type of figures that appear in the LIGO/Virgo publications."
   ]
  },
  {
   "cell_type": "code",
   "execution_count": 28,
   "metadata": {
    "Collapsed": "false",
    "colab": {
     "base_uri": "https://localhost:8080/",
     "height": 440
    },
    "colab_type": "code",
    "id": "9DXqBNTzr08W",
    "outputId": "6f1ea348-697e-4ca5-cec8-b5b831f83f6c"
   },
   "outputs": [
    {
     "data": {
      "image/png": "[encoded data removed]",
      "text/plain": [
       "<Figure size 850x540 with 2 Axes>"
      ]
     },
     "metadata": {},
     "output_type": "display_data"
    }
   ],
   "source": [
    "probperdeg2 = prob/pixarea_deg2\n",
    "hp.mollview(probperdeg2, coord=['C'], title='GW170817 LALInference', max=np.max(probperdeg2))\n",
    "hp.graticule(local=True)\n",
    "plt.show()"
   ]
  },
  {
   "attachments": {},
   "cell_type": "markdown",
   "metadata": {
    "Collapsed": "false",
    "colab_type": "text",
    "id": "eVKxF__vr08Y"
   },
   "source": [
    "# References\n",
    "\n",
    "Please see the following papers/supplements/software repositories for in-depth information on LIGO/Virgo skymaps.\n",
    "\n",
    "1. Going the Distance: Mapping Host Galaxies of LIGO and Virgo Sources in Three Dimensions Using Local Cosmography and Targeted Follow-up. Singer et al. iopscience.iop.org/article/10.3847/2041-8205/829/1/L15/meta\n",
    "\n",
    "2. Supplement: \"Going the Distance\". Singer et al. iopscience.iop.org/article/10.3847/0067-0049/226/1/10/meta\n",
    "\n",
    "3. https://git.ligo.org/leo-singer/ligo.skymap\n",
    "\n",
    "4. https://github.com/ggreco77/GWSky"
   ]
  }
 ],
 "metadata": {
  "colab": {
   "name": "Intro_to_Skymaps.ipynb",
   "provenance": []
  },
  "kernelspec": {
   "display_name": "Python 3",
   "language": "python",
   "name": "python3"
  },
  "language_info": {
   "codemirror_mode": {
    "name": "ipython",
    "version": 3
   },
   "file_extension": ".py",
   "mimetype": "text/x-python",
   "name": "python",
   "nbconvert_exporter": "python",
   "pygments_lexer": "ipython3",
   "version": "3.9.16"
  }
 },
 "nbformat": 4,
 "nbformat_minor": 4
}
