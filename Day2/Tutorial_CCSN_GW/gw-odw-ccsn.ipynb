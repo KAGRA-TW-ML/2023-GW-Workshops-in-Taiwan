{
 "cells": [
  {
   "attachments": {},
   "cell_type": "markdown",
   "metadata": {},
   "source": [
    "<img style=\"float: left;padding: 1.3em\" src=\"https://indico.phys.sinica.edu.tw/event/74/attachments/246/623/KIW-10.png\" width=\"50%\">  \n",
    "\n",
    "# Core-Collapse Supernova Waveforms\n",
    "\n",
    "### GW data workshop @ KIW-10\n",
    "\n",
    "This tutorial describes how we convert the simulated CCSN waveforms into the `TimeSeries` data in `gwpy`.\n",
    "Once we have the `TimeSeries` waveform, we could use the analysis that we have learned in eariler tutorials."
   ]
  },
  {
   "attachments": {},
   "cell_type": "markdown",
   "metadata": {},
   "source": [
    "## Software Setup\n",
    "\n",
    "We will use the `igwn-py39-lw` enviroment from the [odw-2023](https://github.com/gw-odw/odw-2023/blob/main/setup.md).\n",
    "\n",
    "### Option 1: Google Colab\n",
    "\n",
    "Folow the instruction [here](https://github.com/gw-odw/odw-2023/blob/main/setup.md#option-1-google-colab).\n",
    "\n",
    "### Option 2: Use Conda\n",
    "\n",
    "Follow the instruction [here](https://github.com/gw-odw/odw-2023/blob/main/setup.md#option-3-you-have-a-linux-or-applemac-computer----use-conda). "
   ]
  },
  {
   "attachments": {},
   "cell_type": "markdown",
   "metadata": {},
   "source": [
    "## Initialization\n",
    "\n",
    "Run the below cell to import necessary packages in this tutorial.\\\n",
    "If you got any errors, please make sure that you have prepared the necessary software enviroment as decribed in the above cells."
   ]
  },
  {
   "cell_type": "code",
   "execution_count": null,
   "metadata": {},
   "outputs": [],
   "source": [
    "import gwpy\n",
    "import numpy as np\n",
    "import matplotlib.pyplot as plt\n",
    "from scipy.io import wavfile\n",
    "from scipy.interpolate import interp1d\n",
    "from gwpy.timeseries import TimeSeries"
   ]
  },
  {
   "cell_type": "code",
   "execution_count": null,
   "metadata": {},
   "outputs": [],
   "source": [
    "%matplotlib inline"
   ]
  },
  {
   "attachments": {},
   "cell_type": "markdown",
   "metadata": {},
   "source": [
    "# Wavefrom Pre-processing"
   ]
  },
  {
   "attachments": {},
   "cell_type": "markdown",
   "metadata": {},
   "source": [
    "### CCSN simulations\n",
    "\n",
    "In `./Data_GW`, there are CCSN waveforms from Pan et al. ([2018](https://ui.adsabs.harvard.edu/abs/2018ApJ...857...13P/abstract), [2021](https://ui.adsabs.harvard.edu/abs/2021ApJ...914..140P/abstract)).\n",
    "\n",
    "| Waveform  | Progenitor Mass | Dimension  | EoS | Viewing angle | File name | other notes |\n",
    "|---|---|---|---|---|---|---|\n",
    "| $h_\\times$ | 40 | 2 | BHB$\\Lambda\\phi$ | Equator | `data_s40_2d_BHBlp_d2_CrossEquator.d` |\n",
    "| $h_\\times$ | 40 | 2 | DD2 | Equator | `data_s40_2d_DD2_d2_CrossEquator.d` |\n",
    "| $h_\\times$ | 40 | 2 | LS220 | Equator | `data_s40_2d_LS220_d2_CrossEquator.d` |\n",
    "| $h_\\times$ | 40 | 2 | SFHo | Equator | `data_s40_2d_SFHo_d2_CrossEquator.d` |\n",
    "| $h_\\times$ | 40 | 3 | LS220 | Equator | `data_s40_fr_d3_CrossEquator.d` | Fast rotation |\n",
    "| $h_+$ | 40 | 3 | LS220 | Equator | `data_s40_fr_d3_PlusEquator.d` | Fast rotation |\n",
    "| $h_\\times$ | 40 | 3 | LS220 | Pole | `data_s40_fr_d3_CrossPole.d` | Fast rotation |\n",
    "| $h_+$ | 40 | 3 | LS220 | Pole | `data_s40_fr_d3_PlusPole.d` | Fast rotation |\n",
    "| $h_\\times$ | 40 | 3 | LS220 | Equator | `data_s40_sr_d3_CrossEquator.d` | Slow rotation |\n",
    "| $h_+$ | 40 | 3 | LS220 | Equator | `data_s40_sr_d3_PlusEquator.d` | Slow rotation |\n",
    "| $h_\\times$ | 40 | 3 | LS220 | Pole | `data_s40_sr_d3_CrossPole.d` | Slow rotation |\n",
    "| $h_+$ | 40 | 3 | LS220 | Pole | `data_s40_sr_d3_PlusPole.d` | Slow rotation |\n",
    "| $h_\\times$ | 40 | 3 | LS220 | Equator | `data_s40_nor_d3_CrossEquator.d` | No rotation |\n",
    "| $h_+$ | 40 | 3 | LS220 | Equator | `data_s40_nor_d3_PlusEquator.d` | No rotation |\n",
    "| $h_\\times$ | 40 | 3 | LS220 | Pole | `data_s40_nor_d3_CrossPole.d` | No rotation |\n",
    "| $h_+$ | 40 | 3 | LS220 | Pole | `data_s40_nor_d3_PlusPole.d` | No rotation |"
   ]
  },
  {
   "attachments": {},
   "cell_type": "markdown",
   "metadata": {},
   "source": [
    "### Load the simulated waveforms\n",
    "\n",
    "Unlike binary black hole mergers, there is no simple waveform generators for CCSNe.\\\n",
    "All the waveforms require multi-dimensional numerical simulations of CCSN (or using seismology). \n",
    "\n",
    "Therefore, we need to preprcoess the simulated waveforms before we could use it. "
   ]
  },
  {
   "cell_type": "code",
   "execution_count": null,
   "metadata": {},
   "outputs": [],
   "source": [
    "# preview the data\n",
    "#\n",
    "# Here is a waveform template generated from a 2D CCSN simulation using a 40 solar mass progenitor with LS220 EoS.\n",
    "#\n",
    "!head -n 20 ./Data_GW/data_s40_2d_LS220_d2_CrossEquator.d"
   ]
  },
  {
   "attachments": {},
   "cell_type": "markdown",
   "metadata": {},
   "source": [
    "Use `numpy.loadtxt()` to load the waveform."
   ]
  },
  {
   "cell_type": "code",
   "execution_count": null,
   "metadata": {},
   "outputs": [],
   "source": [
    "file_name = \"./Data_GW/data_s40_2d_LS220_d2_CrossEquator.d\"\n",
    "db = np.loadtxt(file_name, unpack=True)\n",
    "times_raw  = db[0] # the raw time series\n",
    "strain_raw = db[1] # the raw strains"
   ]
  },
  {
   "cell_type": "code",
   "execution_count": null,
   "metadata": {},
   "outputs": [],
   "source": [
    "plt.figure(figsize=(10,3))\n",
    "plt.plot(times_raw, strain_raw)\n",
    "plt.xlabel(r\"$t_{pb}$ [sec]\")\n",
    "plt.ylabel(r\"$h_x$\")\n",
    "plt.show()"
   ]
  },
  {
   "attachments": {},
   "cell_type": "markdown",
   "metadata": {},
   "source": [
    "### Check the timesteps in the simulation data\n",
    "\n",
    "The timesteps in CCSN simulations are determinted by two factors:\\\n",
    "1. the sounds speed and fluid velocity, $\\Delta t \\sim \\Delta x / (| c_s| + | \\max (v)|)$\n",
    "2. the radiation timestep ($\\Delta t \\sim \\Delta x/ c$). \n",
    "\n",
    "Thus, the timestep is not uniform during the numerical simulation."
   ]
  },
  {
   "cell_type": "code",
   "execution_count": null,
   "metadata": {},
   "outputs": [],
   "source": [
    "# Visualize the time steps\n",
    "\n",
    "dts = np.diff(times_raw)\n",
    "plt.figure(figsize=(10,4))\n",
    "plt.loglog(dts, label=\"Simulation Data\")\n",
    "plt.loglog(np.ones(len(dts))/4096,'--',c=\"0.5\",label=\"4096 Hz\")\n",
    "plt.loglog(np.ones(len(dts))/8192,'--',c=\"0.3\",label=\"8192 Hz\")\n",
    "plt.ylabel(r\"$\\Delta t$ [sec]\")\n",
    "plt.xlabel(\"Steps\")\n",
    "plt.legend(loc=\"lower left\")\n",
    "plt.show()"
   ]
  },
  {
   "attachments": {},
   "cell_type": "markdown",
   "metadata": {},
   "source": [
    "Since the timesteps in CCSN simulation are not uniform, we need to resample the waveform with uniform timesteps.\\\n",
    "Note that the actual timestep is about $\\Delta t \\sim 10^{-6}$ sec. Linear interpolation should be enough if the sampling rate is about 4096-8192 Hz."
   ]
  },
  {
   "cell_type": "code",
   "execution_count": null,
   "metadata": {},
   "outputs": [],
   "source": [
    "def resample(tt,hh,tstart,tend, sample_rate=8192):\n",
    "    \"\"\"\n",
    "    tt : time array\n",
    "    hh : strain array\n",
    "\n",
    "    tstart : the starting time in second\n",
    "    tend   : the end time in second\n",
    "\n",
    "    sample_rate : sampling rate in Hz\n",
    "\n",
    "    \"\"\" \n",
    "    f = interp1d(tt,hh) # linear interpolation\n",
    "    num_sample = int((tend-tstart)*sample_rate)\n",
    "    tt_resampled = np.linspace(tstart,tend, num_sample)\n",
    "    hh_resampled = np.array([f(t) for t in tt_resampled])\n",
    "    return tt_resampled, hh_resampled"
   ]
  },
  {
   "cell_type": "code",
   "execution_count": null,
   "metadata": {},
   "outputs": [],
   "source": [
    "# resample the waveform\n",
    "times, strain = resample(times_raw,strain_raw, tstart= -0.1, tend=times_raw[-1], sample_rate=8192)"
   ]
  },
  {
   "cell_type": "code",
   "execution_count": null,
   "metadata": {},
   "outputs": [],
   "source": [
    "# Double checked the re-sampled waveform\n",
    "plt.figure(2,figsize=(10,3))\n",
    "plt.plot(times_raw, strain_raw)\n",
    "plt.plot(times, strain)\n",
    "plt.xlabel(r\"$t_{pb}$ [sec]\")\n",
    "plt.ylabel(r\"$h_x$\")\n",
    "#plt.xlim([-0.02,0.15])\n",
    "plt.show()"
   ]
  },
  {
   "attachments": {},
   "cell_type": "markdown",
   "metadata": {},
   "source": [
    "Once we have the CCSN waveform, we could use `gwpy` to convert our simulated waveform into the `TimeSeries` data format."
   ]
  },
  {
   "cell_type": "code",
   "execution_count": null,
   "metadata": {},
   "outputs": [],
   "source": [
    "ccsn_data = TimeSeries(strain,times=times, name=\"s402d (LS220)\")"
   ]
  },
  {
   "attachments": {},
   "cell_type": "markdown",
   "metadata": {},
   "source": [
    "### Plotting time-dormain data"
   ]
  },
  {
   "cell_type": "code",
   "execution_count": null,
   "metadata": {},
   "outputs": [],
   "source": [
    "plot = ccsn_data.plot()\n",
    "ax = plot.gca()\n",
    "ax.set_xlabel(r\"$ t - t_b$ [sec]\")\n",
    "ax.set_ylabel('GW amplitude [strain]')\n",
    "ax.set_title('Simulated CCSN waveform')\n",
    "plot.show()"
   ]
  },
  {
   "attachments": {},
   "cell_type": "markdown",
   "metadata": {},
   "source": [
    "### Plotting in frequency domain"
   ]
  },
  {
   "cell_type": "code",
   "execution_count": null,
   "metadata": {},
   "outputs": [],
   "source": [
    "specgram = ccsn_data.spectrogram2(fftlength=0.01, overlap=0.005, window='hann') ** (1/2.)\n",
    "plot = specgram.plot()"
   ]
  },
  {
   "cell_type": "code",
   "execution_count": null,
   "metadata": {},
   "outputs": [],
   "source": [
    "ax = plot.gca()\n",
    "#ax.set_yscale('log')\n",
    "ax.set_ylim(50, 3000)\n",
    "ax.set_xlabel(r\"$ t - t_b$ [sec]\")\n",
    "ax.colorbar(\n",
    "    clim=(1e-25, 3e-23),\n",
    "    norm=\"log\",\n",
    "    label=r\"Strain noise [$1/\\sqrt{\\mathrm{Hz}}$]\",\n",
    ")\n",
    "plot  # refresh"
   ]
  },
  {
   "attachments": {},
   "cell_type": "markdown",
   "metadata": {},
   "source": [
    "## Playgound\n",
    "\n",
    "1. Visualize different waveforms. What are there main differences?\n",
    "2. Could you find the special GW signatures from rotating CCSNe?\n",
    "3. Could you find the SASI signals?"
   ]
  },
  {
   "cell_type": "code",
   "execution_count": null,
   "metadata": {},
   "outputs": [],
   "source": [
    "# TODO\n",
    "\n",
    "\n",
    "\n",
    "\n",
    "\n",
    "\n",
    "\n",
    "\n",
    "\n",
    "\n",
    "\n",
    "\n"
   ]
  },
  {
   "attachments": {},
   "cell_type": "markdown",
   "metadata": {},
   "source": [
    "---"
   ]
  },
  {
   "attachments": {},
   "cell_type": "markdown",
   "metadata": {},
   "source": [
    "## Generating the sound of CCSN waveforms"
   ]
  },
  {
   "attachments": {},
   "cell_type": "markdown",
   "metadata": {},
   "source": [
    "load the waveform data (again)"
   ]
  },
  {
   "cell_type": "code",
   "execution_count": null,
   "metadata": {},
   "outputs": [],
   "source": [
    "file_name = \"./Data_GW/data_s40_2d_LS220_d2_CrossEquator.d\"\n",
    "db = np.loadtxt(file_name, unpack=True)\n",
    "times_raw  = db[0] # the raw time series\n",
    "strain_raw = db[1] # the raw strains\n",
    "\n",
    "# resample the waveform\n",
    "times, strain = resample(times_raw,strain_raw, tstart= -0.1, tend=times_raw[-1], sample_rate=8192)"
   ]
  },
  {
   "cell_type": "code",
   "execution_count": null,
   "metadata": {},
   "outputs": [],
   "source": [
    "def generate_gw_sound(times, strain, name):\n",
    "    output_name = name+'.mp3'\n",
    "    data = strain * 1.e21\n",
    "    nsample = int(len(data)/(times[-1]- times[0]))\n",
    "    # keep the data within integer limits, and write to wavfile:\n",
    "    d = np.int16(data/max(np.abs(data)) * 32767 * 0.9)\n",
    "    wavfile.write(output_name,nsample, d)\n",
    "    return"
   ]
  },
  {
   "cell_type": "code",
   "execution_count": null,
   "metadata": {},
   "outputs": [],
   "source": [
    "generate_gw_sound(times,strain,\"s40_2d_LS220\")"
   ]
  },
  {
   "attachments": {},
   "cell_type": "markdown",
   "metadata": {},
   "source": [
    "### Playground\n",
    "\n",
    "Now, you could try generating the GW sounds with other CCSN waveforms (or merger waveforms)."
   ]
  },
  {
   "cell_type": "code",
   "execution_count": null,
   "metadata": {},
   "outputs": [],
   "source": [
    "# TODO\n",
    "\n",
    "\n",
    "\n",
    "\n",
    "\n",
    "\n",
    "\n",
    "\n",
    "\n",
    "\n",
    "\n",
    "\n",
    "\n",
    "\n"
   ]
  }
 ],
 "metadata": {
  "kernelspec": {
   "display_name": "igwn-py39-lw",
   "language": "python",
   "name": "python3"
  },
  "language_info": {
   "codemirror_mode": {
    "name": "ipython",
    "version": 3
   },
   "file_extension": ".py",
   "mimetype": "text/x-python",
   "name": "python",
   "nbconvert_exporter": "python",
   "pygments_lexer": "ipython3",
   "version": "3.9.16"
  },
  "orig_nbformat": 4
 },
 "nbformat": 4,
 "nbformat_minor": 2
}
