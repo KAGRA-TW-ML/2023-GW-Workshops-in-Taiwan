{
 "cells": [
  {
   "attachments": {},
   "cell_type": "markdown",
   "metadata": {
    "Collapsed": "false",
    "colab_type": "text",
    "id": "eXBW_u_oyvPj"
   },
   "source": [
    "# Tutorial for Small FOV Instruments\n",
    "\n",
    "In this tutorial we combine our skymaps with galaxy catalogs to get a list of galaxies for individual pointings. A note is made that this is only possible with 3D skymaps which are provided for combact binary merger candidate events."
   ]
  },
  {
   "attachments": {},
   "cell_type": "markdown",
   "metadata": {
    "Collapsed": "false",
    "colab_type": "text",
    "id": "6LWq9rYJyvPp"
   },
   "source": [
    "We begin by importing the necessary packages as done previously. We will also download the 2MASS Redshift Survey galaxy catalog using VizieR."
   ]
  },
  {
   "cell_type": "code",
   "execution_count": 1,
   "metadata": {
    "Collapsed": "false",
    "colab": {
     "base_uri": "https://localhost:8080/",
     "height": 540
    },
    "colab_type": "code",
    "id": "IPIjefbmyvPw",
    "outputId": "79d0b916-eb2b-495e-a193-d9f9b2eaca37"
   },
   "outputs": [],
   "source": [
    "# -- For Google Colab\n",
    "#! pip install -q \"astropy==3.2.3\" \"astroquery==0.3.10\" \"healpy==1.12.9\" \"matplotlib==3.1.2\" \"scipy==1.4.1\"\n",
    "\n",
    "import healpy as hp # for working with HEALPix files\n",
    "import numpy as np # needed for vector operations\n",
    "from matplotlib import pyplot as plt # plotting skymaps\n",
    "from scipy.stats import norm # probability functions"
   ]
  },
  {
   "cell_type": "code",
   "execution_count": 5,
   "metadata": {
    "Collapsed": "false",
    "colab": {},
    "colab_type": "code",
    "id": "hisSbtqDyvP4"
   },
   "outputs": [],
   "source": [
    "from astropy.utils.data import download_file\n",
    "url = ('https://dcc.ligo.org/public/0146/G1701985/001/LALInference_v2.fits.gz')\n",
    "# This is the publication LALInference localization\n",
    "filename = download_file(url, cache=True)"
   ]
  },
  {
   "attachments": {},
   "cell_type": "markdown",
   "metadata": {
    "Collapsed": "false",
    "colab_type": "text",
    "id": "jSEQn7glyvP9"
   },
   "source": [
    "We read in the probability, distmu, distsigma, and distnorm."
   ]
  },
  {
   "cell_type": "code",
   "execution_count": 6,
   "metadata": {
    "Collapsed": "false",
    "colab": {
     "base_uri": "https://localhost:8080/",
     "height": 193
    },
    "colab_type": "code",
    "id": "SpcjNqpSyvQA",
    "outputId": "84a8832b-dd52-4d04-f276-9548d6403ef5"
   },
   "outputs": [],
   "source": [
    "prob, distmu, distsigma, distnorm = hp.read_map(filename, field=range(4))"
   ]
  },
  {
   "cell_type": "code",
   "execution_count": 7,
   "metadata": {
    "Collapsed": "false",
    "colab": {
     "base_uri": "https://localhost:8080/",
     "height": 35
    },
    "colab_type": "code",
    "id": "7cm2Vh-1yvQI",
    "outputId": "6267409b-ebd5-4415-9cac-7ff163c6452c"
   },
   "outputs": [
    {
     "data": {
      "text/plain": [
       "(12582912, 1024)"
      ]
     },
     "execution_count": 7,
     "metadata": {},
     "output_type": "execute_result"
    }
   ],
   "source": [
    "npix = len(prob)\n",
    "nside = hp.npix2nside(npix)\n",
    "npix, nside"
   ]
  },
  {
   "cell_type": "code",
   "execution_count": 5,
   "metadata": {
    "Collapsed": "false",
    "colab": {},
    "colab_type": "code",
    "id": "QSPLp4bvyvQN"
   },
   "outputs": [],
   "source": [
    "# Area per pixel in steradians\n",
    "pixarea = hp.nside2pixarea(nside)"
   ]
  },
  {
   "cell_type": "code",
   "execution_count": 6,
   "metadata": {
    "Collapsed": "false",
    "colab": {},
    "colab_type": "code",
    "id": "LK3C-cu8yvQT"
   },
   "outputs": [],
   "source": [
    "from astroquery.vizier import Vizier\n",
    "Vizier.ROW_LIMIT = -1 # This gets the complete catalog\n",
    "cat1, = Vizier.get_catalogs('J/ApJS/199/26/table3') # Downloading the 2MRS Galaxy Catalog"
   ]
  },
  {
   "attachments": {},
   "cell_type": "markdown",
   "metadata": {
    "Collapsed": "false",
    "colab_type": "text",
    "id": "C23Oo_wAyvQh"
   },
   "source": [
    "According to Tully(2015), the 2MRS luminosity function is well fit by a Schechter function with a cutoff absolute magnitude of $M_k^* = -23.55$ and a power-law index of $\\alpha_K = -1$. We find the maximum absolute magnitude $M_k^{\\text{max}}$ for a completeness fraction of 0.5."
   ]
  },
  {
   "cell_type": "code",
   "execution_count": 7,
   "metadata": {
    "Collapsed": "false",
    "colab": {
     "base_uri": "https://localhost:8080/",
     "height": 35
    },
    "colab_type": "code",
    "id": "mzfKKLu-yvQj",
    "outputId": "78cf75c2-4c1b-403a-a018-09625c9be8c1"
   },
   "outputs": [
    {
     "data": {
      "text/plain": [
       "-23.947936347387156"
      ]
     },
     "execution_count": 7,
     "metadata": {},
     "output_type": "execute_result"
    }
   ],
   "source": [
    "from scipy.special import gammaincinv\n",
    "completeness = 0.5\n",
    "alpha = -1.0\n",
    "MK_star = -23.55\n",
    "MK_max = MK_star + 2.5*np.log10(gammaincinv(alpha + 2, completeness))\n",
    "MK_max"
   ]
  },
  {
   "attachments": {},
   "cell_type": "markdown",
   "metadata": {
    "Collapsed": "false",
    "colab_type": "text",
    "id": "1IuhLskmyvQs"
   },
   "source": [
    "Now, we select only galaxies with positive redshifts and absolute magnitudes greater than $M_k^{\\text{max}}$."
   ]
  },
  {
   "cell_type": "code",
   "execution_count": 8,
   "metadata": {
    "Collapsed": "false",
    "colab": {
     "base_uri": "https://localhost:8080/",
     "height": 191
    },
    "colab_type": "code",
    "id": "oPRMdZAUyvQt",
    "outputId": "18df9334-3bd4-4c3a-8483-04c66b368aab"
   },
   "outputs": [
    {
     "name": "stderr",
     "output_type": "stream",
     "text": [
      "/cvmfs/oasis.opensciencegrid.org/ligo/sw/conda/envs/igwn-py37/lib/python3.7/site-packages/astropy/cosmology/core.py:1251: IntegrationWarning: The occurrence of roundoff error is detected, which prevents \n",
      "  the requested tolerance from being achieved.  The error may be \n",
      "  underestimated.\n",
      "  args=self._inv_efunc_scalar_args)[0]\n",
      "/cvmfs/oasis.opensciencegrid.org/ligo/sw/conda/envs/igwn-py37/lib/python3.7/site-packages/numpy/lib/function_base.py:2167: RuntimeWarning: invalid value encountered in ? (vectorized)\n",
      "  outputs = ufunc(*inputs)\n",
      "/cvmfs/oasis.opensciencegrid.org/ligo/sw/conda/envs/igwn-py37/lib/python3.7/site-packages/astropy/cosmology/core.py:1447: RuntimeWarning: divide by zero encountered in log10\n",
      "  val = 5. * np.log10(abs(self.luminosity_distance(z).value)) + 25.0\n",
      "/cvmfs/oasis.opensciencegrid.org/ligo/sw/conda/envs/igwn-py37/lib/python3.7/site-packages/astropy/table/column.py:991: RuntimeWarning: invalid value encountered in less\n",
      "  result = getattr(super(), op)(other)\n"
     ]
    }
   ],
   "source": [
    "from astropy.cosmology import WMAP9 as cosmo\n",
    "from astropy.table import Column\n",
    "import astropy.units as u\n",
    "import astropy.constants as c\n",
    "z = (u.Quantity(cat1['cz'])/c.c).to(u.dimensionless_unscaled)\n",
    "MK = cat1['Ktmag']-cosmo.distmod(z)\n",
    "keep = (z > 0) & (MK < MK_max)\n",
    "cat1 = cat1[keep]\n",
    "z = z[keep]"
   ]
  },
  {
   "attachments": {},
   "cell_type": "markdown",
   "metadata": {
    "Collapsed": "false",
    "colab_type": "text",
    "id": "S1J15FE7yvQz"
   },
   "source": [
    "Now, we calculate the luminosity distance and HEALPix index of each galaxy."
   ]
  },
  {
   "cell_type": "code",
   "execution_count": 9,
   "metadata": {
    "Collapsed": "false",
    "colab": {},
    "colab_type": "code",
    "id": "BKQEyFkVyvQ1"
   },
   "outputs": [],
   "source": [
    "r = cosmo.luminosity_distance(z).to('Mpc').value\n",
    "theta = 0.5*np.pi - cat1['DEJ2000'].to('rad').value\n",
    "phi = cat1['RAJ2000'].to('rad').value\n",
    "ipix = hp.ang2pix(nside, theta, phi)"
   ]
  },
  {
   "attachments": {},
   "cell_type": "markdown",
   "metadata": {
    "Collapsed": "false",
    "colab_type": "text",
    "id": "ncnwPCs4yvQ5"
   },
   "source": [
    "We find the probability density per unit volume at the position of each galaxy."
   ]
  },
  {
   "cell_type": "code",
   "execution_count": 10,
   "metadata": {
    "Collapsed": "false",
    "colab": {},
    "colab_type": "code",
    "id": "p62yDbbRyvQ7"
   },
   "outputs": [],
   "source": [
    "dp_dV = prob[ipix] * distnorm[ipix] * norm(distmu[ipix], distsigma[ipix]).pdf(r)/pixarea"
   ]
  },
  {
   "attachments": {},
   "cell_type": "markdown",
   "metadata": {
    "Collapsed": "false",
    "colab_type": "text",
    "id": "bopck6mVyvRA"
   },
   "source": [
    "Finally, we sort the galaxies by descending probability density and take the top 50."
   ]
  },
  {
   "cell_type": "code",
   "execution_count": 11,
   "metadata": {
    "Collapsed": "false",
    "colab": {
     "base_uri": "https://localhost:8080/",
     "height": 512
    },
    "colab_type": "code",
    "id": "bHSnxWZhyvRD",
    "outputId": "87056b9b-4989-45b1-b574-cac646f7631e"
   },
   "outputs": [
    {
     "data": {
      "text/html": [
       "<i>Table masked=True length=50</i>\n",
       "<table id=\"table139732942401776\" class=\"table-striped table-bordered table-condensed\">\n",
       "<thead><tr><th>RAJ2000</th><th>DEJ2000</th><th>Ktmag</th></tr></thead>\n",
       "<thead><tr><th>deg</th><th>deg</th><th>mag</th></tr></thead>\n",
       "<thead><tr><th>float64</th><th>float64</th><th>float32</th></tr></thead>\n",
       "<tr><td>197.01802</td><td>-23.79687</td><td>9.226</td></tr>\n",
       "<tr><td>199.52112</td><td>-26.83722</td><td>7.265</td></tr>\n",
       "<tr><td>199.95851</td><td>-27.41009</td><td>7.100</td></tr>\n",
       "<tr><td>196.89058</td><td>-24.00856</td><td>9.047</td></tr>\n",
       "<tr><td>202.30795</td><td>-33.17384</td><td>8.612</td></tr>\n",
       "<tr><td>200.44267</td><td>-27.43052</td><td>7.131</td></tr>\n",
       "<tr><td>194.36627</td><td>-19.69128</td><td>8.819</td></tr>\n",
       "<tr><td>202.86783</td><td>-34.79443</td><td>8.500</td></tr>\n",
       "<tr><td>201.00720</td><td>-32.34394</td><td>9.274</td></tr>\n",
       "<tr><td>...</td><td>...</td><td>...</td></tr>\n",
       "<tr><td>193.11424</td><td>-15.51861</td><td>10.080</td></tr>\n",
       "<tr><td>192.25911</td><td>-8.66435</td><td>6.489</td></tr>\n",
       "<tr><td>204.41425</td><td>-33.81136</td><td>9.610</td></tr>\n",
       "<tr><td>208.60094</td><td>-48.51253</td><td>8.323</td></tr>\n",
       "<tr><td>192.88495</td><td>-13.33003</td><td>9.401</td></tr>\n",
       "<tr><td>201.30222</td><td>-33.65552</td><td>9.816</td></tr>\n",
       "<tr><td>203.44968</td><td>-37.73177</td><td>10.294</td></tr>\n",
       "<tr><td>193.05191</td><td>-13.41473</td><td>9.831</td></tr>\n",
       "<tr><td>194.83864</td><td>-15.04217</td><td>7.451</td></tr>\n",
       "<tr><td>201.97638</td><td>-29.61802</td><td>9.128</td></tr>\n",
       "</table>"
      ],
      "text/plain": [
       "<Table masked=True length=50>\n",
       " RAJ2000   DEJ2000   Ktmag \n",
       "   deg       deg      mag  \n",
       " float64   float64  float32\n",
       "--------- --------- -------\n",
       "197.01802 -23.79687   9.226\n",
       "199.52112 -26.83722   7.265\n",
       "199.95851 -27.41009   7.100\n",
       "196.89058 -24.00856   9.047\n",
       "202.30795 -33.17384   8.612\n",
       "200.44267 -27.43052   7.131\n",
       "194.36627 -19.69128   8.819\n",
       "202.86783 -34.79443   8.500\n",
       "201.00720 -32.34394   9.274\n",
       "      ...       ...     ...\n",
       "193.11424 -15.51861  10.080\n",
       "192.25911  -8.66435   6.489\n",
       "204.41425 -33.81136   9.610\n",
       "208.60094 -48.51253   8.323\n",
       "192.88495 -13.33003   9.401\n",
       "201.30222 -33.65552   9.816\n",
       "203.44968 -37.73177  10.294\n",
       "193.05191 -13.41473   9.831\n",
       "194.83864 -15.04217   7.451\n",
       "201.97638 -29.61802   9.128"
      ]
     },
     "execution_count": 11,
     "metadata": {},
     "output_type": "execute_result"
    }
   ],
   "source": [
    "top50 = cat1[np.flipud(np.argsort(dp_dV))][:50]\n",
    "top50['RAJ2000', 'DEJ2000', 'Ktmag']"
   ]
  },
  {
   "attachments": {},
   "cell_type": "markdown",
   "metadata": {
    "Collapsed": "false",
    "colab_type": "text",
    "id": "doDZTV8ryvRI"
   },
   "source": [
    "The coordinates of the first galaxy above are (197.01802, -23.79687). A pointing in this direction would likely have captured the true host galaxy of GW170817 which is (197.45, -23.38)."
   ]
  },
  {
   "attachments": {},
   "cell_type": "markdown",
   "metadata": {
    "Collapsed": "false",
    "colab_type": "text",
    "id": "QySg12U7yvRK"
   },
   "source": [
    "Now, we attempt a similar down-selection but with a different galaxy catalog: the Galaxy List for the Advanced Detector Era."
   ]
  },
  {
   "cell_type": "code",
   "execution_count": 12,
   "metadata": {
    "Collapsed": "false",
    "colab": {
     "base_uri": "https://localhost:8080/",
     "height": 52
    },
    "colab_type": "code",
    "id": "ot07a6m4yvRL",
    "outputId": "7563a0ee-ea0c-4607-bbb2-3d8633ecf523"
   },
   "outputs": [
    {
     "data": {
      "text/plain": [
       "{'VII/275': 'GLADE catalog (Dalya+, 2016)',\n",
       " 'VII/281': 'GLADE v2.3 catalog (Dalya+, 2018)'}"
      ]
     },
     "execution_count": 12,
     "metadata": {},
     "output_type": "execute_result"
    }
   ],
   "source": [
    "catalog_list = Vizier.find_catalogs('GLADE')\n",
    "{k:v.description for k,v in catalog_list.items()}"
   ]
  },
  {
   "cell_type": "code",
   "execution_count": null,
   "metadata": {
    "Collapsed": "false",
    "colab": {},
    "colab_type": "code",
    "id": "qANDf7wnyvRV"
   },
   "outputs": [],
   "source": [
    "Vizier.ROW_LIMIT = 50000\n",
    "# Note, the GLADE catalog is 1,918,147 rows long thus we will get a memory error if we set the row limit to -1\n",
    "cat2, = Vizier.get_catalogs('VII/275/glade1') # Downloading the GLADE catalog (Galaxy List for the Advanced Detector Era)"
   ]
  },
  {
   "attachments": {},
   "cell_type": "markdown",
   "metadata": {
    "Collapsed": "false",
    "colab_type": "text",
    "id": "G-5bjFfWyvRa"
   },
   "source": [
    "According to Gehrels et al(2016), the GLADE luminosity function is well fit by a Schechter function with a cutoff absolute magnitude of $M_k^* = -20.47$ and a power-law index of $\\alpha_K = -1.07$. We find the maximum absolute magnitude $M_k^{\\text{max}}$ for a completeness fraction of 0.5."
   ]
  },
  {
   "cell_type": "code",
   "execution_count": null,
   "metadata": {
    "Collapsed": "false",
    "colab": {
     "base_uri": "https://localhost:8080/",
     "height": 35
    },
    "colab_type": "code",
    "id": "nWAQStknyvRb",
    "outputId": "e170b2ac-80ef-4b49-99fc-8da3d0e54e7a"
   },
   "outputs": [],
   "source": [
    "completeness = 0.5\n",
    "alpha = -1.07\n",
    "MK_star = -20.47\n",
    "MK_max = MK_star + 2.5*np.log10(gammaincinv(alpha + 2, completeness))\n",
    "MK_max"
   ]
  },
  {
   "cell_type": "code",
   "execution_count": null,
   "metadata": {
    "Collapsed": "false",
    "colab": {},
    "colab_type": "code",
    "id": "w8BwdKpSyvRg"
   },
   "outputs": [],
   "source": [
    "dist = u.Quantity(cat2['Dist']) # Distance in Mpc\n",
    "z = (u.Quantity(cat2['zph2MPZ'])).to(u.dimensionless_unscaled)\n",
    "MK = cat2['Kmag2']-cosmo.distmod(z)\n",
    "keep = (z > 0) & (MK < MK_max)\n",
    "cat2 = cat2[keep]\n",
    "dist = dist[keep]"
   ]
  },
  {
   "cell_type": "code",
   "execution_count": null,
   "metadata": {
    "Collapsed": "false",
    "colab": {},
    "colab_type": "code",
    "id": "fhcaqRgmyvRp"
   },
   "outputs": [],
   "source": [
    "r = dist.value\n",
    "theta = 0.5*np.pi - cat2['DEJ2000'].to('rad').value\n",
    "phi = cat2['RAJ2000'].to('rad').value\n",
    "ipix = hp.ang2pix(nside, theta, phi)"
   ]
  },
  {
   "cell_type": "code",
   "execution_count": null,
   "metadata": {
    "Collapsed": "false",
    "colab": {},
    "colab_type": "code",
    "id": "rAS2GZmGyvR_"
   },
   "outputs": [],
   "source": [
    "dp_dV = prob[ipix] * distnorm[ipix] * norm(distmu[ipix], distsigma[ipix]).pdf(r)/pixarea"
   ]
  },
  {
   "cell_type": "code",
   "execution_count": null,
   "metadata": {
    "Collapsed": "false",
    "colab": {
     "base_uri": "https://localhost:8080/",
     "height": 512
    },
    "colab_type": "code",
    "id": "KzzPkaofyvSF",
    "outputId": "b66e2bcc-ea0a-45df-cf17-26f438c87df8"
   },
   "outputs": [],
   "source": [
    "top50 = cat2[np.flipud(np.argsort(dp_dV))][:50]\n",
    "top50['RAJ2000', 'DEJ2000', 'Kmag2']"
   ]
  },
  {
   "attachments": {},
   "cell_type": "markdown",
   "metadata": {
    "Collapsed": "false",
    "colab_type": "text",
    "id": "O7b1FHUMyvSL"
   },
   "source": [
    "We can use many different algorithms to prioritize galaxies. Here is an outline used by the Las Cumbres Observatory for following-up on GW170817.\n",
    "\n",
    "Step 1: Compute the probability the source being at a distance $D$ for a certain right ascension and declination. Compute the location score of a galaxy: $S_{\\text{loc}} = p_{\\text{pos}} \\times p_{\\text{dist}}$.\n",
    "\n",
    "Step 2: Using the $B$-band magnitude and distance provided in the catalog, calculate the $B$-band luminosity of the galaxy: $L_B$.\n",
    "\n",
    "Step 3: Assuming a limiting magnitude for exposures, $m_{\\text{lim}}$, convert to a limiting luminosity at the distance of each galaxy, $L_{\\text{lim}}$. Assign the galaxy a score: $S_{\\text{lum}} = \\frac{L_B}{\\Sigma L_B}$\n",
    "\n",
    "Step 4: Define the likely counterpart magnitude range, $M_{\\text{KN,min}} - M_{\\text{KN,max}}$ and convert those magnitudes to luminosities.\n",
    "\n",
    "Step 5: Give each galaxy a detection likelihood score: $S_\\text{det} = \\frac{L_{\\text{KN,max}} - L_{\\text{lim}}}{L_{\\text{KN,max}} - L_{\\text{KN,min}}}$."
   ]
  }
 ],
 "metadata": {
  "colab": {
   "name": "Tutorial_for_Small_FOV_Instruments.ipynb",
   "provenance": []
  },
  "kernelspec": {
   "display_name": "Python 3",
   "language": "python",
   "name": "python3"
  },
  "language_info": {
   "codemirror_mode": {
    "name": "ipython",
    "version": 3
   },
   "file_extension": ".py",
   "mimetype": "text/x-python",
   "name": "python",
   "nbconvert_exporter": "python",
   "pygments_lexer": "ipython3",
   "version": "3.9.16"
  }
 },
 "nbformat": 4,
 "nbformat_minor": 4
}
